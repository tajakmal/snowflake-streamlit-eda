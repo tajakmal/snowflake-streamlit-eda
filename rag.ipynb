{
 "cells": [
  {
   "cell_type": "code",
   "execution_count": 19,
   "metadata": {},
   "outputs": [
    {
     "data": {
      "text/plain": [
       "True"
      ]
     },
     "execution_count": 19,
     "metadata": {},
     "output_type": "execute_result"
    }
   ],
   "source": [
    "from langchain.text_splitter import RecursiveCharacterTextSplitter\n",
    "import pandas as pd\n",
    "from PyPDF2 import PdfFileReader\n",
    "from io import BytesIO\n",
    "from snowflake.snowpark import types as T\n",
    "from snowflake.snowpark.files import SnowflakeFile\n",
    "from snowflake.snowpark.types import StringType\n",
    "#from snowflake.ml.utils.connection_params import SnowflakeLoginOptions\n",
    "from snowflake.snowpark import Session\n",
    "from snowflake.snowpark.types import StringType, StructField, StructType\n",
    "import os\n",
    "from dotenv import load_dotenv\n",
    "\n",
    "# Load .env file\n",
    "load_dotenv()"
   ]
  },
  {
   "cell_type": "code",
   "execution_count": 20,
   "metadata": {},
   "outputs": [],
   "source": [
    "# Read connection parameters from environment variables\n",
    "connection_parameters = {\n",
    "    \"account\": os.getenv(\"SNOWFLAKE_ACCOUNT\"),\n",
    "    \"user\": os.getenv(\"SNOWFLAKE_USER\"),\n",
    "    \"password\": os.getenv(\"SNOWFLAKE_PASSWORD\"),\n",
    "    \"role\": os.getenv(\"SNOWFLAKE_ROLE\"),\n",
    "    \"warehouse\": os.getenv(\"SNOWFLAKE_WAREHOUSE\"),\n",
    "    \"database\": os.getenv(\"SNOWFLAKE_DATABASE\"),\n",
    "    \"schema\": os.getenv(\"SNOWFLAKE_SCHEMA\")\n",
    "}\n",
    "\n",
    "# Create a Snowflake Session\n",
    "session = Session.builder.configs(connection_parameters).create()"
   ]
  },
  {
   "cell_type": "code",
   "execution_count": 21,
   "metadata": {},
   "outputs": [
    {
     "data": {
      "text/plain": [
       "[Row(status='Stage area RAG successfully created.')]"
      ]
     },
     "execution_count": 21,
     "metadata": {},
     "output_type": "execute_result"
    }
   ],
   "source": [
    "session.sql('create or replace stage RAG DIRECTORY = ( ENABLE = TRUE)').collect()"
   ]
  },
  {
   "cell_type": "code",
   "execution_count": 4,
   "metadata": {},
   "outputs": [
    {
     "data": {
      "text/plain": [
       "[PutResult(source='Snowflake DBX compare matrix 2023_1220.pdf', target='Snowflake DBX compare matrix 2023_1220.pdf', source_size=545622, target_size=545632, source_compression='NONE', target_compression='NONE', status='UPLOADED', message='')]"
      ]
     },
     "execution_count": 4,
     "metadata": {},
     "output_type": "execute_result"
    }
   ],
   "source": [
    "session.file.put('documents/*.pdf', \"@RAG\", auto_compress=False, overwrite=True)"
   ]
  },
  {
   "cell_type": "code",
   "execution_count": 15,
   "metadata": {},
   "outputs": [],
   "source": [
    "def readpdf(file_path):\n",
    "    whole_text = \"\"\n",
    "    with SnowflakeFile.open(file_path, 'rb') as file:\n",
    "        f = BytesIO(file.readall())\n",
    "        pdf_reader = PdfFileReader(f)\n",
    "        whole_text = \"\"\n",
    "        for page in pdf_reader.pages:\n",
    "            whole_text += page.extract_text()\n",
    "    return whole_text"
   ]
  },
  {
   "cell_type": "code",
   "execution_count": 16,
   "metadata": {},
   "outputs": [
    {
     "name": "stderr",
     "output_type": "stream",
     "text": [
      "The version of package 'pypdf2' in the local environment is 3.0.1, which does not fit the criteria for the requirement 'pypdf2'. Your UDF might not work when the package version is different between the server and your local environment.\n"
     ]
    },
    {
     "data": {
      "text/plain": [
       "<snowflake.snowpark.udf.UserDefinedFunction at 0x149b4ce50>"
      ]
     },
     "execution_count": 16,
     "metadata": {},
     "output_type": "execute_result"
    }
   ],
   "source": [
    "#Register the UDF. \n",
    "session.udf.register(\n",
    "    func = readpdf\n",
    "  , return_type = StringType()\n",
    "  , input_types = [StringType()]\n",
    "  , is_permanent = True\n",
    "  , name = 'SNOWPARK_PDF'\n",
    "  , replace = True\n",
    "  , packages=['snowflake-snowpark-python','pypdf2']\n",
    "  , stage_location = 'RAG'\n",
    ")"
   ]
  },
  {
   "cell_type": "code",
   "execution_count": 7,
   "metadata": {},
   "outputs": [
    {
     "data": {
      "text/plain": [
       "[Row(status='Table RAW_TEXT successfully created.')]"
      ]
     },
     "execution_count": 7,
     "metadata": {},
     "output_type": "execute_result"
    }
   ],
   "source": [
    "session.sql('''\n",
    "CREATE OR REPLACE TABLE RAW_TEXT AS\n",
    "SELECT\n",
    "    relative_path\n",
    "    , file_url\n",
    "    , snowpark_pdf(build_scoped_file_url(@RAG, relative_path)) as raw_text\n",
    "from directory(@RAG)\n",
    "            ''').collect()"
   ]
  },
  {
   "cell_type": "code",
   "execution_count": 8,
   "metadata": {},
   "outputs": [
    {
     "name": "stdout",
     "output_type": "stream",
     "text": [
      "---------------------------------------------\n",
      "|\"RELATIVE_PATH\"  |\"FILE_URL\"  |\"RAW_TEXT\"  |\n",
      "---------------------------------------------\n",
      "|                 |            |            |\n",
      "---------------------------------------------\n",
      "\n"
     ]
    }
   ],
   "source": [
    "session.table('RAW_TEXT').show()"
   ]
  },
  {
   "cell_type": "code",
   "execution_count": 22,
   "metadata": {},
   "outputs": [],
   "source": [
    "class text_chunker:\n",
    "\n",
    "    def process(self,text):        \n",
    "        text_raw=[]\n",
    "        text_raw.append(text) \n",
    "        \n",
    "        text_splitter = RecursiveCharacterTextSplitter(\n",
    "            separators = [\"\\n\"], # Define an appropriate separator. New line is good typically!\n",
    "            chunk_size = 500, #Adjust this as you see fit\n",
    "            chunk_overlap  = 100, #This let's text have some form of overlap. Useful for keeping chunks contextual\n",
    "            length_function = len,\n",
    "            add_start_index = True #Optional but useful if you'd like to feed the chunk before/after\n",
    "        )\n",
    "    \n",
    "        chunks = text_splitter.create_documents(text_raw)\n",
    "        df = pd.DataFrame(chunks, columns=['chunks','meta'])\n",
    "        \n",
    "        yield from df.itertuples(index=False, name=None)"
   ]
  },
  {
   "cell_type": "code",
   "execution_count": 23,
   "metadata": {},
   "outputs": [
    {
     "name": "stderr",
     "output_type": "stream",
     "text": [
      "The version of package 'langchain' in the local environment is 0.1.1, which does not fit the criteria for the requirement 'langchain'. Your UDF might not work when the package version is different between the server and your local environment.\n"
     ]
    },
    {
     "data": {
      "text/plain": [
       "<snowflake.snowpark.udtf.UserDefinedTableFunction at 0x148cc0590>"
      ]
     },
     "execution_count": 23,
     "metadata": {},
     "output_type": "execute_result"
    }
   ],
   "source": [
    "#Register the UDTF\n",
    "\n",
    "schema = StructType([\n",
    "     StructField(\"chunk\", StringType()),\n",
    "    StructField(\"meta\", StringType()),\n",
    " ])\n",
    "\n",
    "session.udtf.register( \n",
    "    handler = text_chunker,\n",
    "    output_schema= schema, \n",
    "    input_types = [StringType()] , \n",
    "    is_permanent = True , \n",
    "    name = 'CHUNK_TEXT' , \n",
    "    replace = True , \n",
    "    packages=['pandas','langchain'], stage_location = 'RAG')"
   ]
  },
  {
   "cell_type": "code",
   "execution_count": 24,
   "metadata": {},
   "outputs": [
    {
     "data": {
      "text/plain": [
       "[Row(status='Table CHUNK_TEXT successfully created.')]"
      ]
     },
     "execution_count": 24,
     "metadata": {},
     "output_type": "execute_result"
    }
   ],
   "source": [
    "session.sql('''\n",
    "CREATE OR REPLACE TABLE CHUNK_TEXT AS\n",
    "SELECT\n",
    "        relative_path,\n",
    "        func.*\n",
    "    FROM raw_text AS raw,\n",
    "         TABLE(chunk_text(raw_text)) as func;\n",
    "            ''').collect()"
   ]
  },
  {
   "cell_type": "code",
   "execution_count": 12,
   "metadata": {},
   "outputs": [
    {
     "data": {
      "text/plain": [
       "[Row(status='Table VECTOR_STORE successfully created.')]"
      ]
     },
     "execution_count": 12,
     "metadata": {},
     "output_type": "execute_result"
    }
   ],
   "source": [
    "session.sql('''\n",
    "CREATE OR REPLACE TABLE VECTOR_STORE AS\n",
    "SELECT\n",
    "RELATIVE_PATH as EPISODE_NAME,\n",
    "CHUNK AS CHUNK,\n",
    "snowflake.cortex.embed_text('e5-base-v2', chunk) as chunk_embedding\n",
    "FROM CHUNK_TEXT\n",
    "            ''').collect()"
   ]
  },
  {
   "cell_type": "code",
   "execution_count": null,
   "metadata": {},
   "outputs": [],
   "source": []
  }
 ],
 "metadata": {
  "kernelspec": {
   "display_name": ".venv",
   "language": "python",
   "name": "python3"
  },
  "language_info": {
   "codemirror_mode": {
    "name": "ipython",
    "version": 3
   },
   "file_extension": ".py",
   "mimetype": "text/x-python",
   "name": "python",
   "nbconvert_exporter": "python",
   "pygments_lexer": "ipython3",
   "version": "3.11.0b3"
  }
 },
 "nbformat": 4,
 "nbformat_minor": 2
}
